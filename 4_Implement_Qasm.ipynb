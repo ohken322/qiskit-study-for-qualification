{
 "cells": [
  {
   "cell_type": "markdown",
   "id": "a816f483",
   "metadata": {},
   "source": [
    "# qasmコードのqiskitでの実行\n",
    "\n",
    "https://quantumcomputing.stackexchange.com/questions/9695/how-to-run-a-qasm-file-on-ibmq-device"
   ]
  },
  {
   "cell_type": "code",
   "execution_count": 1,
   "id": "71d1c83e",
   "metadata": {},
   "outputs": [
    {
     "name": "stdout",
     "output_type": "stream",
     "text": [
      "{'00': 545, '11': 479}\n"
     ]
    }
   ],
   "source": [
    "from qiskit import QuantumCircuit, Aer, execute\n",
    "\n",
    "qasm_str = \"\"\"OPENQASM 2.0;\n",
    "include \"qelib1.inc\";\n",
    "qreg q[2];\n",
    "creg c[2];\n",
    "h q[0];\n",
    "cx q[0],q[1];\n",
    "measure q -> c;\n",
    "\"\"\"\n",
    "\n",
    "# From str.\n",
    "qc = QuantumCircuit.from_qasm_str(qasm_str)\n",
    "# If you want to read from file, use instead\n",
    "# qc = QuantumCircuit.from_qasm_file(\"/path/to/file.qasm\")\n",
    "\n",
    "# You can choose other backend also.\n",
    "backend = Aer.get_backend(\"qasm_simulator\")\n",
    "\n",
    "# Execute the circuit and show the result.\n",
    "job = execute(qc, backend)\n",
    "result = job.result()\n",
    "print(result.get_counts())"
   ]
  },
  {
   "cell_type": "code",
   "execution_count": null,
   "id": "f1be53c6",
   "metadata": {},
   "outputs": [],
   "source": []
  }
 ],
 "metadata": {
  "kernelspec": {
   "display_name": "Python 3",
   "language": "python",
   "name": "python3"
  },
  "language_info": {
   "codemirror_mode": {
    "name": "ipython",
    "version": 3
   },
   "file_extension": ".py",
   "mimetype": "text/x-python",
   "name": "python",
   "nbconvert_exporter": "python",
   "pygments_lexer": "ipython3",
   "version": "3.8.8"
  }
 },
 "nbformat": 4,
 "nbformat_minor": 5
}
