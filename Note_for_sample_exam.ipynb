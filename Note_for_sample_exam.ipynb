{
 "cells": [
  {
   "cell_type": "markdown",
   "id": "997505cd",
   "metadata": {},
   "source": [
    "ここには、qiskitの資格試験の模擬試験を振り返ったメモをまとめる"
   ]
  },
  {
   "cell_type": "markdown",
   "id": "7c296b4a",
   "metadata": {},
   "source": [
    "# ブロッホ球のメモ (問2, 6)\n",
    "- |0>がz軸↑、|1>がz軸↓\n",
    "- |+>がx軸↑、|->がx軸↓\n",
    "- |0> + i |1> がy軸↑、|0> - i |1> がy軸↓\n",
    "- y軸またはx軸に関するθの回転により、|0>がcos(θ/2)、|1>がsin(θ/2) になる"
   ]
  },
  {
   "cell_type": "code",
   "execution_count": 3,
   "id": "4fb90c45",
   "metadata": {},
   "outputs": [
    {
     "name": "stdout",
     "output_type": "stream",
     "text": [
      "{'1': 863, '0': 161}\n"
     ]
    }
   ],
   "source": [
    "from qiskit import *\n",
    "import math\n",
    "\n",
    "# y軸の回転\n",
    "qc = QuantumCircuit(1)\n",
    "qc.ry(3 * math.pi/4, 0)\n",
    "qc.measure_all()\n",
    "\n",
    "backend = Aer.get_backend('qasm_simulator')\n",
    "result = execute(qc, backend).result()\n",
    "print(result.get_counts())"
   ]
  },
  {
   "cell_type": "code",
   "execution_count": 4,
   "id": "5426fc2d",
   "metadata": {},
   "outputs": [
    {
     "name": "stdout",
     "output_type": "stream",
     "text": [
      "{'1': 878, '0': 146}\n"
     ]
    }
   ],
   "source": [
    "# x軸の回転\n",
    "qc = QuantumCircuit(1)\n",
    "qc.rx(3 * math.pi/4, 0)\n",
    "qc.measure_all()\n",
    "\n",
    "backend = Aer.get_backend('qasm_simulator')\n",
    "result = execute(qc, backend).result()\n",
    "print(result.get_counts())"
   ]
  },
  {
   "cell_type": "markdown",
   "id": "886017d1",
   "metadata": {},
   "source": [
    "# 測定のコマンド (問4)\n",
    "\n",
    "- [`qc.measure(qubits, clbits)`](https://qiskit.org/documentation/locale/ja_JP/stubs/qiskit.circuit.QuantumCircuit.html#qiskit.circuit.QuantumCircuit.measure)と[`qc.measure_all()`](https://qiskit.org/documentation/locale/ja_JP/stubs/qiskit.circuit.QuantumCircuit.html#qiskit.circuit.QuantumCircuit.measure_all)を比較する"
   ]
  },
  {
   "cell_type": "code",
   "execution_count": 3,
   "id": "6a137592",
   "metadata": {},
   "outputs": [
    {
     "data": {
      "text/html": [
       "<pre style=\"word-wrap: normal;white-space: pre;background: #fff0;line-height: 1.1;font-family: &quot;Courier New&quot;,Courier,monospace\">     ┌─┐      \n",
       "q_0: ┤M├──────\n",
       "     └╥┘┌─┐   \n",
       "q_1: ─╫─┤M├───\n",
       "      ║ └╥┘┌─┐\n",
       "q_2: ─╫──╫─┤M├\n",
       "      ║  ║ └╥┘\n",
       "c: 3/═╩══╩══╩═\n",
       "      0  1  2 </pre>"
      ],
      "text/plain": [
       "     ┌─┐      \n",
       "q_0: ┤M├──────\n",
       "     └╥┘┌─┐   \n",
       "q_1: ─╫─┤M├───\n",
       "      ║ └╥┘┌─┐\n",
       "q_2: ─╫──╫─┤M├\n",
       "      ║  ║ └╥┘\n",
       "c: 3/═╩══╩══╩═\n",
       "      0  1  2 "
      ]
     },
     "execution_count": 3,
     "metadata": {},
     "output_type": "execute_result"
    }
   ],
   "source": [
    "from qiskit import QuantumCircuit, QuantumRegister, ClassicalRegister\n",
    "\n",
    "qc = QuantumCircuit(3,3)\n",
    "\n",
    "qc.measure([0,1,2], [0,1,2])\n",
    "qc.draw(output='mpl')"
   ]
  },
  {
   "cell_type": "code",
   "execution_count": 5,
   "id": "467f3d09",
   "metadata": {},
   "outputs": [
    {
     "data": {
      "text/html": [
       "<pre style=\"word-wrap: normal;white-space: pre;background: #fff0;line-height: 1.1;font-family: &quot;Courier New&quot;,Courier,monospace\">         ░ ┌─┐      \n",
       "   q_0: ─░─┤M├──────\n",
       "         ░ └╥┘┌─┐   \n",
       "   q_1: ─░──╫─┤M├───\n",
       "         ░  ║ └╥┘┌─┐\n",
       "   q_2: ─░──╫──╫─┤M├\n",
       "         ░  ║  ║ └╥┘\n",
       "   c: 3/════╬══╬══╬═\n",
       "            ║  ║  ║ \n",
       "meas: 3/════╩══╩══╩═\n",
       "            0  1  2 </pre>"
      ],
      "text/plain": [
       "         ░ ┌─┐      \n",
       "   q_0: ─░─┤M├──────\n",
       "         ░ └╥┘┌─┐   \n",
       "   q_1: ─░──╫─┤M├───\n",
       "         ░  ║ └╥┘┌─┐\n",
       "   q_2: ─░──╫──╫─┤M├\n",
       "         ░  ║  ║ └╥┘\n",
       "   c: 3/════╬══╬══╬═\n",
       "            ║  ║  ║ \n",
       "meas: 3/════╩══╩══╩═\n",
       "            0  1  2 "
      ]
     },
     "execution_count": 5,
     "metadata": {},
     "output_type": "execute_result"
    }
   ],
   "source": [
    "qc = QuantumCircuit(3,3)\n",
    "\n",
    "qc.measure_all()\n",
    "qc.draw(output='mpl')"
   ]
  },
  {
   "cell_type": "markdown",
   "id": "5765117f",
   "metadata": {},
   "source": [
    "measure_allは測定用ビットを付け加えるので、複数回やるとどんどん増えていく"
   ]
  },
  {
   "cell_type": "code",
   "execution_count": 6,
   "id": "feea75fd",
   "metadata": {},
   "outputs": [
    {
     "data": {
      "text/html": [
       "<pre style=\"word-wrap: normal;white-space: pre;background: #fff0;line-height: 1.1;font-family: &quot;Courier New&quot;,Courier,monospace\">          ░ ┌─┐       ░ ┌─┐      \n",
       "    q_0: ─░─┤M├───────░─┤M├──────\n",
       "          ░ └╥┘┌─┐    ░ └╥┘┌─┐   \n",
       "    q_1: ─░──╫─┤M├────░──╫─┤M├───\n",
       "          ░  ║ └╥┘┌─┐ ░  ║ └╥┘┌─┐\n",
       "    q_2: ─░──╫──╫─┤M├─░──╫──╫─┤M├\n",
       "          ░  ║  ║ └╥┘ ░  ║  ║ └╥┘\n",
       "    c: 3/════╬══╬══╬═════╬══╬══╬═\n",
       "             ║  ║  ║     ║  ║  ║ \n",
       " meas: 3/════╩══╩══╩═════╬══╬══╬═\n",
       "             0  1  2     ║  ║  ║ \n",
       "                         ║  ║  ║ \n",
       "meas1: 3/════════════════╩══╩══╩═\n",
       "                         0  1  2 </pre>"
      ],
      "text/plain": [
       "          ░ ┌─┐       ░ ┌─┐      \n",
       "    q_0: ─░─┤M├───────░─┤M├──────\n",
       "          ░ └╥┘┌─┐    ░ └╥┘┌─┐   \n",
       "    q_1: ─░──╫─┤M├────░──╫─┤M├───\n",
       "          ░  ║ └╥┘┌─┐ ░  ║ └╥┘┌─┐\n",
       "    q_2: ─░──╫──╫─┤M├─░──╫──╫─┤M├\n",
       "          ░  ║  ║ └╥┘ ░  ║  ║ └╥┘\n",
       "    c: 3/════╬══╬══╬═════╬══╬══╬═\n",
       "             ║  ║  ║     ║  ║  ║ \n",
       " meas: 3/════╩══╩══╩═════╬══╬══╬═\n",
       "             0  1  2     ║  ║  ║ \n",
       "                         ║  ║  ║ \n",
       "meas1: 3/════════════════╩══╩══╩═\n",
       "                         0  1  2 "
      ]
     },
     "execution_count": 6,
     "metadata": {},
     "output_type": "execute_result"
    }
   ],
   "source": [
    "qc.measure_all()\n",
    "qc.draw(output='mpl')"
   ]
  },
  {
   "cell_type": "markdown",
   "id": "b0c49b63",
   "metadata": {},
   "source": [
    "引数`inplace`をFalseにすると、新しい回路を返す"
   ]
  },
  {
   "cell_type": "code",
   "execution_count": 10,
   "id": "55933939",
   "metadata": {},
   "outputs": [
    {
     "data": {
      "text/html": [
       "<pre style=\"word-wrap: normal;white-space: pre;background: #fff0;line-height: 1.1;font-family: &quot;Courier New&quot;,Courier,monospace\">         ░ ┌─┐      \n",
       "   q_0: ─░─┤M├──────\n",
       "         ░ └╥┘┌─┐   \n",
       "   q_1: ─░──╫─┤M├───\n",
       "         ░  ║ └╥┘┌─┐\n",
       "   q_2: ─░──╫──╫─┤M├\n",
       "         ░  ║  ║ └╥┘\n",
       "   c: 3/════╬══╬══╬═\n",
       "            ║  ║  ║ \n",
       "meas: 3/════╩══╩══╩═\n",
       "            0  1  2 </pre>"
      ],
      "text/plain": [
       "         ░ ┌─┐      \n",
       "   q_0: ─░─┤M├──────\n",
       "         ░ └╥┘┌─┐   \n",
       "   q_1: ─░──╫─┤M├───\n",
       "         ░  ║ └╥┘┌─┐\n",
       "   q_2: ─░──╫──╫─┤M├\n",
       "         ░  ║  ║ └╥┘\n",
       "   c: 3/════╬══╬══╬═\n",
       "            ║  ║  ║ \n",
       "meas: 3/════╩══╩══╩═\n",
       "            0  1  2 "
      ]
     },
     "execution_count": 10,
     "metadata": {},
     "output_type": "execute_result"
    }
   ],
   "source": [
    "qc = QuantumCircuit(3,3)\n",
    "\n",
    "qc_m = qc.measure_all(False)\n",
    "\n",
    "qc_m.draw(output='mpl')"
   ]
  },
  {
   "cell_type": "code",
   "execution_count": 11,
   "id": "1d765d5f",
   "metadata": {},
   "outputs": [
    {
     "data": {
      "text/html": [
       "<pre style=\"word-wrap: normal;white-space: pre;background: #fff0;line-height: 1.1;font-family: &quot;Courier New&quot;,Courier,monospace\">     \n",
       "q_0: \n",
       "     \n",
       "q_1: \n",
       "     \n",
       "q_2: \n",
       "     \n",
       "c: 3/\n",
       "     </pre>"
      ],
      "text/plain": [
       "     \n",
       "q_0: \n",
       "     \n",
       "q_1: \n",
       "     \n",
       "q_2: \n",
       "     \n",
       "c: 3/\n",
       "     "
      ]
     },
     "execution_count": 11,
     "metadata": {},
     "output_type": "execute_result"
    }
   ],
   "source": [
    "# 元の回路は変更されない\n",
    "qc.draw()"
   ]
  },
  {
   "cell_type": "markdown",
   "id": "960336e9",
   "metadata": {},
   "source": [
    "# 初期化コマンド (問8)\n",
    "\n",
    "- [`initialize(param, qubit)`](https://qiskit.org/documentation/locale/ja_JP/stubs/qiskit.circuit.QuantumCircuit.html#qiskit.circuit.QuantumCircuit.initialize)の使い方を調べる\n",
    "    - qubitをparamで初期化する\n",
    "    - qubitは省略することもできる(その場合は設定されているqubitの数と初期化するパラメータの数が対応する必要がある)"
   ]
  },
  {
   "cell_type": "code",
   "execution_count": 14,
   "id": "b68484cb",
   "metadata": {},
   "outputs": [
    {
     "data": {
      "text/html": [
       "<pre style=\"word-wrap: normal;white-space: pre;background: #fff0;line-height: 1.1;font-family: &quot;Courier New&quot;,Courier,monospace\">     ┌──────────────────────────────┐\n",
       "q_0: ┤ initialize(0.70711,-0.70711) ├\n",
       "     └──────────────────────────────┘</pre>"
      ],
      "text/plain": [
       "     ┌──────────────────────────────┐\n",
       "q_0: ┤ initialize(0.70711,-0.70711) ├\n",
       "     └──────────────────────────────┘"
      ]
     },
     "execution_count": 14,
     "metadata": {},
     "output_type": "execute_result"
    }
   ],
   "source": [
    "import numpy as np\n",
    "from qiskit import QuantumCircuit\n",
    "\n",
    "circuit = QuantumCircuit(1)\n",
    "circuit.initialize([1/np.sqrt(2), -1/np.sqrt(2)], 0)\n",
    "circuit.draw()"
   ]
  },
  {
   "cell_type": "code",
   "execution_count": 17,
   "id": "bfb35238",
   "metadata": {},
   "outputs": [
    {
     "data": {
      "text/html": [
       "<pre style=\"word-wrap: normal;white-space: pre;background: #fff0;line-height: 1.1;font-family: &quot;Courier New&quot;,Courier,monospace\">     ┌──────────────────────────────┐\n",
       "q_0: ┤ initialize(0.70711,-0.70711) ├\n",
       "     └──────────────────────────────┘</pre>"
      ],
      "text/plain": [
       "     ┌──────────────────────────────┐\n",
       "q_0: ┤ initialize(0.70711,-0.70711) ├\n",
       "     └──────────────────────────────┘"
      ]
     },
     "execution_count": 17,
     "metadata": {},
     "output_type": "execute_result"
    }
   ],
   "source": [
    "circuit = QuantumCircuit(1)\n",
    "circuit.initialize([1/np.sqrt(2), -1/np.sqrt(2)])\n",
    "circuit.draw()"
   ]
  },
  {
   "cell_type": "code",
   "execution_count": 24,
   "id": "08677be6",
   "metadata": {},
   "outputs": [
    {
     "data": {
      "text/html": [
       "<pre style=\"word-wrap: normal;white-space: pre;background: #fff0;line-height: 1.1;font-family: &quot;Courier New&quot;,Courier,monospace\">     ┌────────────────────────────────┐\n",
       "q_0: ┤0                               ├\n",
       "     │  initialize(0.5,-0.5,0.5,-0.5) │\n",
       "q_1: ┤1                               ├\n",
       "     └────────────────────────────────┘</pre>"
      ],
      "text/plain": [
       "     ┌────────────────────────────────┐\n",
       "q_0: ┤0                               ├\n",
       "     │  initialize(0.5,-0.5,0.5,-0.5) │\n",
       "q_1: ┤1                               ├\n",
       "     └────────────────────────────────┘"
      ]
     },
     "execution_count": 24,
     "metadata": {},
     "output_type": "execute_result"
    }
   ],
   "source": [
    "# 次のコードはパラメータ数とqubit数が合っていない(パラメータ不足)ため、エラーが起きる\n",
    "# circuit = QuantumCircuit(2)\n",
    "# circuit.initialize([1/np.sqrt(2), -1/np.sqrt(2)])\n",
    "# circuit.draw()\n",
    "\n",
    "circuit = QuantumCircuit(2)\n",
    "circuit.initialize([1/2, -1/2, 1/2, -1/2])\n",
    "circuit.draw()"
   ]
  },
  {
   "cell_type": "markdown",
   "id": "8835b0b0",
   "metadata": {},
   "source": [
    "# 位相シフトゲート (問7, 12)\n",
    "\n",
    "- $Z = \\begin{pmatrix}\n",
    "1 & 0 \\\\\n",
    "0 & e^{\\pi i}\n",
    "\\end{pmatrix}\n",
    "= \\begin{pmatrix}\n",
    "1 & 0 \\\\\n",
    "0 & -1\n",
    "\\end{pmatrix}$\n",
    "- $S = \\begin{pmatrix}\n",
    "1 & 0 \\\\\n",
    "0 & e^{\\pi i/2}\n",
    "\\end{pmatrix}\n",
    "= \\begin{pmatrix}\n",
    "1 & 0 \\\\\n",
    "0 & i\n",
    "\\end{pmatrix}$\n",
    "- $T = \\begin{pmatrix}\n",
    "1 & 0 \\\\\n",
    "0 & e^{\\pi i/4}\n",
    "\\end{pmatrix}\n",
    "$\n"
   ]
  },
  {
   "cell_type": "markdown",
   "id": "d44f73ab",
   "metadata": {},
   "source": [
    "# 測定(問14, 15)\n",
    "\n",
    "coupling_map は何を指定しているのか？\n",
    "↓で実際に使われていて、実機の結合の情報をコピーする際に使う？\n",
    "https://qiskit.org/documentation/locale/ja_JP/tutorials/algorithms/03_vqe_simulation_with_noise.html"
   ]
  },
  {
   "cell_type": "code",
   "execution_count": 5,
   "id": "d5bf7e06",
   "metadata": {},
   "outputs": [],
   "source": [
    "qc = QuantumCircuit(3)\n",
    "qasm_sim = Aer.get_backend('qasm_simulator')\n",
    "couple_map = [[0, 1], [1, 2]]\n",
    "job = execute(qc, backend=qasm_sim, shots=1024, coupling_map=couple_map)\n",
    "result = job.result()"
   ]
  },
  {
   "cell_type": "code",
   "execution_count": 10,
   "id": "9813a900",
   "metadata": {},
   "outputs": [],
   "source": [
    "job.backend().configuration().coupling_map"
   ]
  },
  {
   "cell_type": "markdown",
   "id": "d575e754",
   "metadata": {},
   "source": [
    "# オペレータ(問18)\n",
    "\n",
    "https://qiskit.org/documentation/locale/ja_JP/tutorials/circuits_advanced/02_operators_overview.html\n",
    "\n",
    "- 行列(配列やリスト)を引数にとり、インスタンスを生成できる\n",
    "- 次のインスタンスからの変換もできる\n",
    "    - Pauli オブジェクト\n",
    "    - Gate と Instruction オブジェクト\n",
    "    - QuantumCircuits オブジェクト"
   ]
  },
  {
   "cell_type": "code",
   "execution_count": 14,
   "id": "ac1c5d80",
   "metadata": {},
   "outputs": [
    {
     "name": "stderr",
     "output_type": "stream",
     "text": [
      "C:\\Users\\ohno\\Anaconda3\\envs\\quantum\\lib\\site-packages\\qiskit\\quantum_info\\operators\\symplectic\\pauli.py:187: DeprecationWarning: Initializing Pauli from `Pauli(label=l)` kwarg is deprecated as of version 0.17.0 and will be removed no earlier than 3 months after the release date. Use `Pauli(l)` instead.\n",
      "  base_z, base_x, base_phase = self._from_label_deprecated(label)\n"
     ]
    },
    {
     "data": {
      "text/plain": [
       "Operator([[0.+0.j, 0.+0.j, 0.+0.j, 1.+0.j],\n",
       "          [0.+0.j, 0.+0.j, 1.+0.j, 0.+0.j],\n",
       "          [0.+0.j, 1.+0.j, 0.+0.j, 0.+0.j],\n",
       "          [1.+0.j, 0.+0.j, 0.+0.j, 0.+0.j]],\n",
       "         input_dims=(2, 2), output_dims=(2, 2))"
      ]
     },
     "execution_count": 14,
     "metadata": {},
     "output_type": "execute_result"
    }
   ],
   "source": [
    "from qiskit.quantum_info.operators import Operator, Pauli\n",
    "from qiskit.quantum_info import process_fidelity\n",
    "from qiskit.extensions import RXGate, XGate, CXGate\n",
    "\n",
    "pauliXX = Pauli(label='XX')\n",
    "\n",
    "Operator(pauliXX)"
   ]
  },
  {
   "cell_type": "markdown",
   "id": "e1781220",
   "metadata": {},
   "source": [
    "オペレータを回路内に入れることもできる\n"
   ]
  },
  {
   "cell_type": "code",
   "execution_count": 15,
   "id": "462a62f3",
   "metadata": {},
   "outputs": [
    {
     "data": {
      "image/png": "[encoded data removed]",
      "text/plain": [
       "<Figure size 327.252x204.68 with 1 Axes>"
      ]
     },
     "execution_count": 15,
     "metadata": {},
     "output_type": "execute_result"
    }
   ],
   "source": [
    "# Create an operator\n",
    "XX = Operator(Pauli(label='XX'))\n",
    "\n",
    "# Add to a circuit\n",
    "circ = QuantumCircuit(2, 2)\n",
    "circ.append(XX, [0, 1])\n",
    "circ.measure([0,1], [0,1])\n",
    "circ.draw('mpl')"
   ]
  },
  {
   "cell_type": "code",
   "execution_count": null,
   "id": "94ee3371",
   "metadata": {},
   "outputs": [],
   "source": []
  }
 ],
 "metadata": {
  "kernelspec": {
   "display_name": "Python 3",
   "language": "python",
   "name": "python3"
  },
  "language_info": {
   "codemirror_mode": {
    "name": "ipython",
    "version": 3
   },
   "file_extension": ".py",
   "mimetype": "text/x-python",
   "name": "python",
   "nbconvert_exporter": "python",
   "pygments_lexer": "ipython3",
   "version": "3.8.8"
  }
 },
 "nbformat": 4,
 "nbformat_minor": 5
}
