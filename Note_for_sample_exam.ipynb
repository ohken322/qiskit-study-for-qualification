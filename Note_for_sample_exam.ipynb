{
 "cells": [
  {
   "cell_type": "markdown",
   "id": "db0e6d28",
   "metadata": {},
   "source": [
    "ここには、qiskitの資格試験の模擬試験を振り返ったメモをまとめる"
   ]
  },
  {
   "cell_type": "markdown",
   "id": "1ee582ec",
   "metadata": {},
   "source": [
    "# ブロッホ球のメモ (問2, 6)\n",
    "- |0>がz軸↑、|1>がz軸↓\n",
    "- |+>がx軸↑、|->がx軸↓\n",
    "- |0> + i |1> がy軸↑、|0> - i |1> がy軸↓\n",
    "- y軸またはx軸に関するθの回転により、|0>がcos(θ/2)、|1>がsin(θ/2) になる"
   ]
  },
  {
   "cell_type": "markdown",
   "id": "9172c960",
   "metadata": {},
   "source": [
    "# 測定のコマンド (問4)\n",
    "\n",
    "- [`qc.measure(qubits, clbits)`](https://qiskit.org/documentation/locale/ja_JP/stubs/qiskit.circuit.QuantumCircuit.html#qiskit.circuit.QuantumCircuit.measure)と[`qc.measure_all()`](https://qiskit.org/documentation/locale/ja_JP/stubs/qiskit.circuit.QuantumCircuit.html#qiskit.circuit.QuantumCircuit.measure_all)を比較する"
   ]
  },
  {
   "cell_type": "code",
   "execution_count": 3,
   "id": "91ddc521",
   "metadata": {},
   "outputs": [
    {
     "data": {
      "text/html": [
       "<pre style=\"word-wrap: normal;white-space: pre;background: #fff0;line-height: 1.1;font-family: &quot;Courier New&quot;,Courier,monospace\">     ┌─┐      \n",
       "q_0: ┤M├──────\n",
       "     └╥┘┌─┐   \n",
       "q_1: ─╫─┤M├───\n",
       "      ║ └╥┘┌─┐\n",
       "q_2: ─╫──╫─┤M├\n",
       "      ║  ║ └╥┘\n",
       "c: 3/═╩══╩══╩═\n",
       "      0  1  2 </pre>"
      ],
      "text/plain": [
       "     ┌─┐      \n",
       "q_0: ┤M├──────\n",
       "     └╥┘┌─┐   \n",
       "q_1: ─╫─┤M├───\n",
       "      ║ └╥┘┌─┐\n",
       "q_2: ─╫──╫─┤M├\n",
       "      ║  ║ └╥┘\n",
       "c: 3/═╩══╩══╩═\n",
       "      0  1  2 "
      ]
     },
     "execution_count": 3,
     "metadata": {},
     "output_type": "execute_result"
    }
   ],
   "source": [
    "from qiskit import QuantumCircuit, QuantumRegister, ClassicalRegister\n",
    "\n",
    "qc = QuantumCircuit(3,3)\n",
    "\n",
    "qc.measure([0,1,2], [0,1,2])\n",
    "qc.draw()"
   ]
  },
  {
   "cell_type": "code",
   "execution_count": 5,
   "id": "9448f357",
   "metadata": {},
   "outputs": [
    {
     "data": {
      "text/html": [
       "<pre style=\"word-wrap: normal;white-space: pre;background: #fff0;line-height: 1.1;font-family: &quot;Courier New&quot;,Courier,monospace\">         ░ ┌─┐      \n",
       "   q_0: ─░─┤M├──────\n",
       "         ░ └╥┘┌─┐   \n",
       "   q_1: ─░──╫─┤M├───\n",
       "         ░  ║ └╥┘┌─┐\n",
       "   q_2: ─░──╫──╫─┤M├\n",
       "         ░  ║  ║ └╥┘\n",
       "   c: 3/════╬══╬══╬═\n",
       "            ║  ║  ║ \n",
       "meas: 3/════╩══╩══╩═\n",
       "            0  1  2 </pre>"
      ],
      "text/plain": [
       "         ░ ┌─┐      \n",
       "   q_0: ─░─┤M├──────\n",
       "         ░ └╥┘┌─┐   \n",
       "   q_1: ─░──╫─┤M├───\n",
       "         ░  ║ └╥┘┌─┐\n",
       "   q_2: ─░──╫──╫─┤M├\n",
       "         ░  ║  ║ └╥┘\n",
       "   c: 3/════╬══╬══╬═\n",
       "            ║  ║  ║ \n",
       "meas: 3/════╩══╩══╩═\n",
       "            0  1  2 "
      ]
     },
     "execution_count": 5,
     "metadata": {},
     "output_type": "execute_result"
    }
   ],
   "source": [
    "qc = QuantumCircuit(3,3)\n",
    "\n",
    "qc.measure_all()\n",
    "qc.draw()"
   ]
  },
  {
   "cell_type": "markdown",
   "id": "e27dff21",
   "metadata": {},
   "source": [
    "measure_allは測定用ビットを付け加えるので、複数回やるとどんどん増えていく"
   ]
  },
  {
   "cell_type": "code",
   "execution_count": 6,
   "id": "12e3b666",
   "metadata": {},
   "outputs": [
    {
     "data": {
      "text/html": [
       "<pre style=\"word-wrap: normal;white-space: pre;background: #fff0;line-height: 1.1;font-family: &quot;Courier New&quot;,Courier,monospace\">          ░ ┌─┐       ░ ┌─┐      \n",
       "    q_0: ─░─┤M├───────░─┤M├──────\n",
       "          ░ └╥┘┌─┐    ░ └╥┘┌─┐   \n",
       "    q_1: ─░──╫─┤M├────░──╫─┤M├───\n",
       "          ░  ║ └╥┘┌─┐ ░  ║ └╥┘┌─┐\n",
       "    q_2: ─░──╫──╫─┤M├─░──╫──╫─┤M├\n",
       "          ░  ║  ║ └╥┘ ░  ║  ║ └╥┘\n",
       "    c: 3/════╬══╬══╬═════╬══╬══╬═\n",
       "             ║  ║  ║     ║  ║  ║ \n",
       " meas: 3/════╩══╩══╩═════╬══╬══╬═\n",
       "             0  1  2     ║  ║  ║ \n",
       "                         ║  ║  ║ \n",
       "meas1: 3/════════════════╩══╩══╩═\n",
       "                         0  1  2 </pre>"
      ],
      "text/plain": [
       "          ░ ┌─┐       ░ ┌─┐      \n",
       "    q_0: ─░─┤M├───────░─┤M├──────\n",
       "          ░ └╥┘┌─┐    ░ └╥┘┌─┐   \n",
       "    q_1: ─░──╫─┤M├────░──╫─┤M├───\n",
       "          ░  ║ └╥┘┌─┐ ░  ║ └╥┘┌─┐\n",
       "    q_2: ─░──╫──╫─┤M├─░──╫──╫─┤M├\n",
       "          ░  ║  ║ └╥┘ ░  ║  ║ └╥┘\n",
       "    c: 3/════╬══╬══╬═════╬══╬══╬═\n",
       "             ║  ║  ║     ║  ║  ║ \n",
       " meas: 3/════╩══╩══╩═════╬══╬══╬═\n",
       "             0  1  2     ║  ║  ║ \n",
       "                         ║  ║  ║ \n",
       "meas1: 3/════════════════╩══╩══╩═\n",
       "                         0  1  2 "
      ]
     },
     "execution_count": 6,
     "metadata": {},
     "output_type": "execute_result"
    }
   ],
   "source": [
    "qc.measure_all()\n",
    "qc.draw()"
   ]
  },
  {
   "cell_type": "markdown",
   "id": "fb4c0513",
   "metadata": {},
   "source": [
    "引数`inplace`をFalseにすると、新しい回路を返す"
   ]
  },
  {
   "cell_type": "code",
   "execution_count": 10,
   "id": "d815f712",
   "metadata": {},
   "outputs": [
    {
     "data": {
      "text/html": [
       "<pre style=\"word-wrap: normal;white-space: pre;background: #fff0;line-height: 1.1;font-family: &quot;Courier New&quot;,Courier,monospace\">         ░ ┌─┐      \n",
       "   q_0: ─░─┤M├──────\n",
       "         ░ └╥┘┌─┐   \n",
       "   q_1: ─░──╫─┤M├───\n",
       "         ░  ║ └╥┘┌─┐\n",
       "   q_2: ─░──╫──╫─┤M├\n",
       "         ░  ║  ║ └╥┘\n",
       "   c: 3/════╬══╬══╬═\n",
       "            ║  ║  ║ \n",
       "meas: 3/════╩══╩══╩═\n",
       "            0  1  2 </pre>"
      ],
      "text/plain": [
       "         ░ ┌─┐      \n",
       "   q_0: ─░─┤M├──────\n",
       "         ░ └╥┘┌─┐   \n",
       "   q_1: ─░──╫─┤M├───\n",
       "         ░  ║ └╥┘┌─┐\n",
       "   q_2: ─░──╫──╫─┤M├\n",
       "         ░  ║  ║ └╥┘\n",
       "   c: 3/════╬══╬══╬═\n",
       "            ║  ║  ║ \n",
       "meas: 3/════╩══╩══╩═\n",
       "            0  1  2 "
      ]
     },
     "execution_count": 10,
     "metadata": {},
     "output_type": "execute_result"
    }
   ],
   "source": [
    "qc = QuantumCircuit(3,3)\n",
    "\n",
    "qc_m = qc.measure_all(False)\n",
    "\n",
    "qc_m.draw()"
   ]
  },
  {
   "cell_type": "code",
   "execution_count": 11,
   "id": "31d924ee",
   "metadata": {},
   "outputs": [
    {
     "data": {
      "text/html": [
       "<pre style=\"word-wrap: normal;white-space: pre;background: #fff0;line-height: 1.1;font-family: &quot;Courier New&quot;,Courier,monospace\">     \n",
       "q_0: \n",
       "     \n",
       "q_1: \n",
       "     \n",
       "q_2: \n",
       "     \n",
       "c: 3/\n",
       "     </pre>"
      ],
      "text/plain": [
       "     \n",
       "q_0: \n",
       "     \n",
       "q_1: \n",
       "     \n",
       "q_2: \n",
       "     \n",
       "c: 3/\n",
       "     "
      ]
     },
     "execution_count": 11,
     "metadata": {},
     "output_type": "execute_result"
    }
   ],
   "source": [
    "# 元の回路は変更されない\n",
    "qc.draw()"
   ]
  },
  {
   "cell_type": "markdown",
   "id": "55e297cd",
   "metadata": {},
   "source": [
    "# 初期化コマンド (問8)\n",
    "\n",
    "- [`initialize(param, qubit)`](https://qiskit.org/documentation/locale/ja_JP/stubs/qiskit.circuit.QuantumCircuit.html#qiskit.circuit.QuantumCircuit.initialize)の使い方を調べる\n",
    "    - qubitをparamで初期化する\n",
    "    - qubitは省略することもできる(その場合は設定されているqubitの数と初期化するパラメータの数が対応する必要がある)"
   ]
  },
  {
   "cell_type": "code",
   "execution_count": 14,
   "id": "93504faf",
   "metadata": {},
   "outputs": [
    {
     "data": {
      "text/html": [
       "<pre style=\"word-wrap: normal;white-space: pre;background: #fff0;line-height: 1.1;font-family: &quot;Courier New&quot;,Courier,monospace\">     ┌──────────────────────────────┐\n",
       "q_0: ┤ initialize(0.70711,-0.70711) ├\n",
       "     └──────────────────────────────┘</pre>"
      ],
      "text/plain": [
       "     ┌──────────────────────────────┐\n",
       "q_0: ┤ initialize(0.70711,-0.70711) ├\n",
       "     └──────────────────────────────┘"
      ]
     },
     "execution_count": 14,
     "metadata": {},
     "output_type": "execute_result"
    }
   ],
   "source": [
    "import numpy as np\n",
    "from qiskit import QuantumCircuit\n",
    "\n",
    "circuit = QuantumCircuit(1)\n",
    "circuit.initialize([1/np.sqrt(2), -1/np.sqrt(2)], 0)\n",
    "circuit.draw()"
   ]
  },
  {
   "cell_type": "code",
   "execution_count": 17,
   "id": "d6a59eee",
   "metadata": {},
   "outputs": [
    {
     "data": {
      "text/html": [
       "<pre style=\"word-wrap: normal;white-space: pre;background: #fff0;line-height: 1.1;font-family: &quot;Courier New&quot;,Courier,monospace\">     ┌──────────────────────────────┐\n",
       "q_0: ┤ initialize(0.70711,-0.70711) ├\n",
       "     └──────────────────────────────┘</pre>"
      ],
      "text/plain": [
       "     ┌──────────────────────────────┐\n",
       "q_0: ┤ initialize(0.70711,-0.70711) ├\n",
       "     └──────────────────────────────┘"
      ]
     },
     "execution_count": 17,
     "metadata": {},
     "output_type": "execute_result"
    }
   ],
   "source": [
    "circuit = QuantumCircuit(1)\n",
    "circuit.initialize([1/np.sqrt(2), -1/np.sqrt(2)])\n",
    "circuit.draw()"
   ]
  },
  {
   "cell_type": "code",
   "execution_count": 22,
   "id": "3ef1da40",
   "metadata": {},
   "outputs": [
    {
     "data": {
      "text/html": [
       "<pre style=\"word-wrap: normal;white-space: pre;background: #fff0;line-height: 1.1;font-family: &quot;Courier New&quot;,Courier,monospace\">     ┌────────────────────────────────┐\n",
       "q_0: ┤0                               ├\n",
       "     │  initialize(0.5,-0.5,0.5,-0.5) │\n",
       "q_1: ┤1                               ├\n",
       "     └────────────────────────────────┘</pre>"
      ],
      "text/plain": [
       "     ┌────────────────────────────────┐\n",
       "q_0: ┤0                               ├\n",
       "     │  initialize(0.5,-0.5,0.5,-0.5) │\n",
       "q_1: ┤1                               ├\n",
       "     └────────────────────────────────┘"
      ]
     },
     "execution_count": 22,
     "metadata": {},
     "output_type": "execute_result"
    }
   ],
   "source": [
    "# 次のコードはパラメータ数とqubit数が合っていない(パラメータ不足)ため、エラーが起きる\n",
    "# circuit = QuantumCircuit(2)\n",
    "# circuit.initialize([1/np.sqrt(2), -1/np.sqrt(2)])\n",
    "# circuit.draw()\n",
    "\n",
    "circuit = QuantumCircuit(2)\n",
    "circuit.initialize([1/2, -1/2, 1/2, -1/2])\n",
    "circuit.draw()"
   ]
  },
  {
   "cell_type": "markdown",
   "id": "c186701a",
   "metadata": {},
   "source": [
    "# 位相シフトゲート (問7, 12)\n",
    "\n",
    "- $Z = \\begin{pmatrix}\n",
    "1 & 0 \\\\\n",
    "0 & e^{\\pi i}\n",
    "\\end{pmatrix}\n",
    "= \\begin{pmatrix}\n",
    "1 & 0 \\\\\n",
    "0 & -1\n",
    "\\end{pmatrix}$\n",
    "- $S = \\begin{pmatrix}\n",
    "1 & 0 \\\\\n",
    "0 & e^{\\pi i/2}\n",
    "\\end{pmatrix}\n",
    "= \\begin{pmatrix}\n",
    "1 & 0 \\\\\n",
    "0 & i\n",
    "\\end{pmatrix}$\n",
    "- $T = \\begin{pmatrix}\n",
    "1 & 0 \\\\\n",
    "0 & e^{\\pi i/4}\n",
    "\\end{pmatrix}\n",
    "$\n"
   ]
  },
  {
   "cell_type": "code",
   "execution_count": null,
   "id": "2b605ad8",
   "metadata": {},
   "outputs": [],
   "source": []
  }
 ],
 "metadata": {
  "kernelspec": {
   "display_name": "Python 3",
   "language": "python",
   "name": "python3"
  },
  "language_info": {
   "codemirror_mode": {
    "name": "ipython",
    "version": 3
   },
   "file_extension": ".py",
   "mimetype": "text/x-python",
   "name": "python",
   "nbconvert_exporter": "python",
   "pygments_lexer": "ipython3",
   "version": "3.8.8"
  }
 },
 "nbformat": 4,
 "nbformat_minor": 5
}
