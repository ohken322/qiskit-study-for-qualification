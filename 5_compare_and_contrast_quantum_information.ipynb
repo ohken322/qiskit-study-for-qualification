{
 "cells": [
  {
   "cell_type": "markdown",
   "id": "8b951c34",
   "metadata": {},
   "source": [
    "## QuantumRegisterを使う\n",
    "\n",
    "QuantumRegisterの引数`bits`について  \n",
    "bitsはBitインスタンスのリストで、Bitインスタンスは例えばQubitクラスから得られる"
   ]
  },
  {
   "cell_type": "code",
   "execution_count": 9,
   "id": "c59777f6",
   "metadata": {},
   "outputs": [],
   "source": [
    "from qiskit import QuantumRegister, ClassicalRegister, QuantumCircuit\n",
    "from qiskit.circuit import Qubit"
   ]
  },
  {
   "cell_type": "code",
   "execution_count": 10,
   "id": "f070007c",
   "metadata": {},
   "outputs": [
    {
     "name": "stdout",
     "output_type": "stream",
     "text": [
      "<qiskit.circuit.quantumregister.Qubit object at 0x000001D1860B2D60>\n"
     ]
    }
   ],
   "source": [
    "qbit = Qubit()\n",
    "print(qbit)"
   ]
  },
  {
   "cell_type": "code",
   "execution_count": 11,
   "id": "c91775d1",
   "metadata": {},
   "outputs": [
    {
     "name": "stdout",
     "output_type": "stream",
     "text": [
      "QuantumRegister(1, 'q6')\n"
     ]
    }
   ],
   "source": [
    "q = QuantumRegister(bits=[qbit])\n",
    "print(q)"
   ]
  },
  {
   "cell_type": "markdown",
   "id": "83917956",
   "metadata": {},
   "source": [
    "QuantumRegisterもqasmに書き直すメソッドを持っている"
   ]
  },
  {
   "cell_type": "code",
   "execution_count": 12,
   "id": "457b80ff",
   "metadata": {},
   "outputs": [
    {
     "name": "stdout",
     "output_type": "stream",
     "text": [
      "qreg q6[1];\n"
     ]
    }
   ],
   "source": [
    "print(q.qasm())"
   ]
  },
  {
   "cell_type": "markdown",
   "id": "409379b3",
   "metadata": {},
   "source": [
    "## オペレータを使う\n",
    "\n",
    "[ここ](https://qiskit.org/documentation/locale/ja_JP/tutorials/circuits_advanced/02_operators_overview.html)によくまとまってる"
   ]
  },
  {
   "cell_type": "code",
   "execution_count": 14,
   "id": "e2b051e7",
   "metadata": {},
   "outputs": [],
   "source": [
    "import numpy as np\n",
    "\n",
    "from qiskit import QuantumCircuit, ClassicalRegister, QuantumRegister\n",
    "from qiskit import execute, BasicAer\n",
    "from qiskit.compiler import transpile\n",
    "from qiskit.quantum_info.operators import Operator, Pauli\n",
    "from qiskit.quantum_info import process_fidelity\n",
    "\n",
    "from qiskit.extensions import RXGate, XGate, CXGate"
   ]
  },
  {
   "cell_type": "code",
   "execution_count": 15,
   "id": "08a11af4",
   "metadata": {},
   "outputs": [
    {
     "data": {
      "text/plain": [
       "Operator([[0.+0.j, 0.+0.j, 0.+0.j, 1.+0.j],\n",
       "          [0.+0.j, 0.+0.j, 1.+0.j, 0.+0.j],\n",
       "          [0.+0.j, 1.+0.j, 0.+0.j, 0.+0.j],\n",
       "          [1.+0.j, 0.+0.j, 0.+0.j, 0.+0.j]],\n",
       "         input_dims=(2, 2), output_dims=(2, 2))"
      ]
     },
     "execution_count": 15,
     "metadata": {},
     "output_type": "execute_result"
    }
   ],
   "source": [
    "XX = Operator([[0, 0, 0, 1], [0, 0, 1, 0], [0, 1, 0, 0], [1, 0, 0, 0]])\n",
    "XX"
   ]
  },
  {
   "cell_type": "code",
   "execution_count": 16,
   "id": "c919e895",
   "metadata": {},
   "outputs": [
    {
     "name": "stdout",
     "output_type": "stream",
     "text": [
      "Input dimensions: (2, 2, 2)\n",
      "Output dimensions: (2, 2)\n"
     ]
    }
   ],
   "source": [
    "op = Operator(np.random.rand(2 ** 2, 2 ** 3))\n",
    "print('Input dimensions:', op.input_dims())\n",
    "print('Output dimensions:', op.output_dims())"
   ]
  },
  {
   "cell_type": "markdown",
   "id": "9e6f9ec7",
   "metadata": {},
   "source": [
    "それぞれの\"2\"が1ビットを表している(サブシステムとよばれる単位で分けられている)  \n",
    "初期化時の0次元目(列)がoutput、1次元目(行)がinput (ケットベクトルが縦ベクトルで、左から作用すると思えば素直)"
   ]
  },
  {
   "cell_type": "code",
   "execution_count": 18,
   "id": "299af701",
   "metadata": {},
   "outputs": [
    {
     "data": {
      "text/plain": [
       "Operator([[0.+0.j, 0.+0.j, 0.+0.j, 1.+0.j],\n",
       "          [0.+0.j, 0.+0.j, 1.+0.j, 0.+0.j],\n",
       "          [0.+0.j, 1.+0.j, 0.+0.j, 0.+0.j],\n",
       "          [1.+0.j, 0.+0.j, 0.+0.j, 0.+0.j]],\n",
       "         input_dims=(2, 2), output_dims=(2, 2))"
      ]
     },
     "execution_count": 18,
     "metadata": {},
     "output_type": "execute_result"
    }
   ],
   "source": [
    "# Create an Operator from a Pauli object\n",
    "\n",
    "pauliXX = Pauli('XX')\n",
    "Operator(pauliXX)"
   ]
  },
  {
   "cell_type": "code",
   "execution_count": 20,
   "id": "7e90fc89",
   "metadata": {},
   "outputs": [
    {
     "data": {
      "text/plain": [
       "Operator([[1.+0.j, 0.+0.j, 0.+0.j, 0.+0.j],\n",
       "          [0.+0.j, 0.+0.j, 0.+0.j, 1.+0.j],\n",
       "          [0.+0.j, 0.+0.j, 1.+0.j, 0.+0.j],\n",
       "          [0.+0.j, 1.+0.j, 0.+0.j, 0.+0.j]],\n",
       "         input_dims=(2, 2), output_dims=(2, 2))"
      ]
     },
     "execution_count": 20,
     "metadata": {},
     "output_type": "execute_result"
    }
   ],
   "source": [
    "# Create an Operator for a Gate object\n",
    "Operator(CXGate())"
   ]
  },
  {
   "cell_type": "markdown",
   "id": "6f47c7c6",
   "metadata": {},
   "source": [
    "よくあるCXゲートの行列表示とちょっと違ってややこしい"
   ]
  },
  {
   "cell_type": "code",
   "execution_count": 21,
   "id": "ffbd777a",
   "metadata": {},
   "outputs": [
    {
     "data": {
      "text/plain": [
       "Operator([[0.70710678+0.j        , 0.        -0.70710678j],\n",
       "          [0.        -0.70710678j, 0.70710678+0.j        ]],\n",
       "         input_dims=(2,), output_dims=(2,))"
      ]
     },
     "execution_count": 21,
     "metadata": {},
     "output_type": "execute_result"
    }
   ],
   "source": [
    "# Create an operator from a parameterized Gate object\n",
    "Operator(RXGate(np.pi / 2))"
   ]
  },
  {
   "cell_type": "code",
   "execution_count": 22,
   "id": "409791a9",
   "metadata": {},
   "outputs": [
    {
     "data": {
      "text/plain": [
       "Operator([[ 0.70710678+0.j,  0.70710678+0.j,  0.        +0.j, ...,\n",
       "            0.        +0.j,  0.        +0.j,  0.        +0.j],\n",
       "          [ 0.        +0.j,  0.        +0.j,  0.70710678+0.j, ...,\n",
       "            0.        +0.j,  0.        +0.j,  0.        +0.j],\n",
       "          [ 0.        +0.j,  0.        +0.j,  0.        +0.j, ...,\n",
       "            0.        +0.j,  0.        +0.j,  0.        +0.j],\n",
       "          ...,\n",
       "          [ 0.        +0.j,  0.        +0.j,  0.        +0.j, ...,\n",
       "            0.        +0.j,  0.        +0.j,  0.        +0.j],\n",
       "          [ 0.        +0.j,  0.        +0.j,  0.70710678+0.j, ...,\n",
       "            0.        +0.j,  0.        +0.j,  0.        +0.j],\n",
       "          [ 0.70710678+0.j, -0.70710678+0.j,  0.        +0.j, ...,\n",
       "            0.        +0.j,  0.        +0.j,  0.        +0.j]],\n",
       "         input_dims=(2, 2, 2, 2, 2, 2, 2, 2, 2, 2), output_dims=(2, 2, 2, 2, 2, 2, 2, 2, 2, 2))"
      ]
     },
     "execution_count": 22,
     "metadata": {},
     "output_type": "execute_result"
    }
   ],
   "source": [
    "# Create an operator from a QuantumCircuit object\n",
    "circ = QuantumCircuit(10)\n",
    "circ.h(0)\n",
    "for j in range(1, 10):\n",
    "    circ.cx(j-1, j)\n",
    "\n",
    "# Convert circuit to an operator by implicit unitary simulation\n",
    "Operator(circ)"
   ]
  },
  {
   "cell_type": "code",
   "execution_count": null,
   "id": "5539a41a",
   "metadata": {},
   "outputs": [],
   "source": []
  }
 ],
 "metadata": {
  "kernelspec": {
   "display_name": "Python 3",
   "language": "python",
   "name": "python3"
  },
  "language_info": {
   "codemirror_mode": {
    "name": "ipython",
    "version": 3
   },
   "file_extension": ".py",
   "mimetype": "text/x-python",
   "name": "python",
   "nbconvert_exporter": "python",
   "pygments_lexer": "ipython3",
   "version": "3.8.8"
  }
 },
 "nbformat": 4,
 "nbformat_minor": 5
}
