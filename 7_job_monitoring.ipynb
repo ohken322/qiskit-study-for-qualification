{
 "cells": [
  {
   "cell_type": "code",
   "execution_count": 1,
   "id": "190ef9f7",
   "metadata": {},
   "outputs": [],
   "source": [
    "from qiskit import QuantumRegister, ClassicalRegister\n",
    "from qiskit import QuantumCircuit, execute, Aer\n",
    "from qiskit.tools.monitor import job_monitor"
   ]
  },
  {
   "cell_type": "code",
   "execution_count": 2,
   "id": "9695cd17",
   "metadata": {},
   "outputs": [
    {
     "name": "stdout",
     "output_type": "stream",
     "text": [
      "Job Status: job has successfully run\n",
      "{'00': 507, '11': 493}\n"
     ]
    }
   ],
   "source": [
    "qc = QuantumCircuit(2)\n",
    "\n",
    "qc.h(0)\n",
    "qc.cx(0,1)\n",
    "qc.measure_all()\n",
    "\n",
    "backend = Aer.get_backend('qasm_simulator')\n",
    "job = execute(qc, backend, shots=1000)\n",
    "\n",
    "job_monitor(job)\n",
    "\n",
    "result = job.result()\n",
    "count =result.get_counts()\n",
    "print(count)"
   ]
  },
  {
   "cell_type": "markdown",
   "id": "34bcd7f7",
   "metadata": {},
   "source": [
    "特別な引数はほとんどなさそうなので、この形で実行できればよさそう  \n",
    "エラーが出ることがあるのか？"
   ]
  },
  {
   "cell_type": "code",
   "execution_count": null,
   "id": "73577a8e",
   "metadata": {},
   "outputs": [],
   "source": []
  }
 ],
 "metadata": {
  "kernelspec": {
   "display_name": "Python 3",
   "language": "python",
   "name": "python3"
  },
  "language_info": {
   "codemirror_mode": {
    "name": "ipython",
    "version": 3
   },
   "file_extension": ".py",
   "mimetype": "text/x-python",
   "name": "python",
   "nbconvert_exporter": "python",
   "pygments_lexer": "ipython3",
   "version": "3.8.8"
  }
 },
 "nbformat": 4,
 "nbformat_minor": 5
}
